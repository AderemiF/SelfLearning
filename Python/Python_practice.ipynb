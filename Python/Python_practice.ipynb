{
 "cells": [
  {
   "cell_type": "code",
   "execution_count": 3,
   "metadata": {
    "ExecuteTime": {
     "end_time": "2021-01-09T13:29:53.733609Z",
     "start_time": "2021-01-09T13:29:53.726509Z"
    }
   },
   "outputs": [
    {
     "name": "stdout",
     "output_type": "stream",
     "text": [
      "Not yet done: 1\n",
      "Not yet done: 2\n",
      "Not yet done: 3\n",
      "Not yet done: 4\n",
      "Not yet done: 5\n",
      "Not yet done: 6\n",
      "Not yet done: 7\n",
      "Not yet done: 8\n",
      "Almost done: 9\n",
      "Now done\n"
     ]
    }
   ],
   "source": [
    "n = 10\n",
    "i = 1 \n",
    "while True:\n",
    "    if i%9 != 0:\n",
    "        print(\"Not yet done:\",i)\n",
    "        i += 1\n",
    "        continue\n",
    "    print(\"Almost done:\",i)\n",
    "    break \n",
    "print(\"Now done\")"
   ]
  },
  {
   "cell_type": "code",
   "execution_count": 7,
   "metadata": {
    "ExecuteTime": {
     "end_time": "2021-01-09T19:33:38.820987Z",
     "start_time": "2021-01-09T19:33:38.813072Z"
    }
   },
   "outputs": [
    {
     "name": "stdout",
     "output_type": "stream",
     "text": [
      "0\n",
      "2\n",
      "4\n",
      "6\n",
      "8\n",
      "[0, 4, 16, 36, 64]\n"
     ]
    }
   ],
   "source": [
    "L = list()\n",
    "for i in range(0,10,2):\n",
    "    print(i)\n",
    "    L.append(i*i)\n",
    "print(L)"
   ]
  },
  {
   "cell_type": "code",
   "execution_count": 14,
   "metadata": {
    "ExecuteTime": {
     "end_time": "2021-01-09T19:45:12.585726Z",
     "start_time": "2021-01-09T19:45:12.581298Z"
    }
   },
   "outputs": [
    {
     "name": "stdout",
     "output_type": "stream",
     "text": [
      "[-5, 1, 2, 2, 3, 4, 7, 9]\n"
     ]
    }
   ],
   "source": [
    "a = [1,2,4,-5,7,9,3,2]\n",
    "a.sort()\n",
    "print(a)"
   ]
  },
  {
   "cell_type": "code",
   "execution_count": 15,
   "metadata": {
    "ExecuteTime": {
     "end_time": "2021-01-09T19:45:54.569547Z",
     "start_time": "2021-01-09T19:45:54.562578Z"
    }
   },
   "outputs": [
    {
     "name": "stdout",
     "output_type": "stream",
     "text": [
      "[9, 7, 4, 3, 2, 2, 1, -5]\n"
     ]
    }
   ],
   "source": [
    "a = [1,2,4,-5,7,9,3,2]\n",
    "a.sort(reverse=True)\n",
    "print(a)"
   ]
  },
  {
   "cell_type": "code",
   "execution_count": 16,
   "metadata": {
    "ExecuteTime": {
     "end_time": "2021-01-09T19:54:35.948348Z",
     "start_time": "2021-01-09T19:54:35.943137Z"
    }
   },
   "outputs": [],
   "source": [
    "def my_song():\n",
    "    print(\"Happy people\")\n",
    "    print(\"What a wonderful world\")\n",
    "    print(\"Scars to your beautiful\")"
   ]
  },
  {
   "cell_type": "code",
   "execution_count": 17,
   "metadata": {
    "ExecuteTime": {
     "end_time": "2021-01-09T19:55:09.939539Z",
     "start_time": "2021-01-09T19:55:09.931790Z"
    }
   },
   "outputs": [
    {
     "name": "stdout",
     "output_type": "stream",
     "text": [
      "7\n",
      "Happy people\n",
      "What a wonderful world\n",
      "Scars to your beautiful\n"
     ]
    }
   ],
   "source": [
    "a = 2\n",
    "b = 5\n",
    "print(a+b)\n",
    "my_song()"
   ]
  },
  {
   "cell_type": "code",
   "execution_count": 24,
   "metadata": {
    "ExecuteTime": {
     "end_time": "2021-01-09T20:29:37.899547Z",
     "start_time": "2021-01-09T20:29:37.895797Z"
    }
   },
   "outputs": [],
   "source": [
    "def add(*args):\n",
    "    sum = 0\n",
    "    for i in range(len(args)):\n",
    "        sum = sum + args[i]\n",
    "    return sum"
   ]
  },
  {
   "cell_type": "code",
   "execution_count": 25,
   "metadata": {
    "ExecuteTime": {
     "end_time": "2021-01-09T20:29:38.733557Z",
     "start_time": "2021-01-09T20:29:38.727276Z"
    }
   },
   "outputs": [
    {
     "data": {
      "text/plain": [
       "12"
      ]
     },
     "execution_count": 25,
     "metadata": {},
     "output_type": "execute_result"
    }
   ],
   "source": [
    "add(3,4,5)"
   ]
  },
  {
   "cell_type": "code",
   "execution_count": 29,
   "metadata": {
    "ExecuteTime": {
     "end_time": "2021-01-09T20:35:46.337755Z",
     "start_time": "2021-01-09T20:35:46.330372Z"
    }
   },
   "outputs": [
    {
     "name": "stdout",
     "output_type": "stream",
     "text": [
      "my top 5 songs are:\n",
      "Happy people\n",
      "What a wonderful world\n",
      "Scars to your beautiful\n",
      "Ooops! 2 songs are missing\n"
     ]
    }
   ],
   "source": [
    "print(f\"my top {add(1,2,2)} songs are:\")\n",
    "my_song()\n",
    "print(\"Ooops! 2 songs are missing\")"
   ]
  },
  {
   "cell_type": "code",
   "execution_count": 7,
   "metadata": {
    "ExecuteTime": {
     "end_time": "2021-01-13T13:08:12.301440Z",
     "start_time": "2021-01-13T13:08:12.295228Z"
    }
   },
   "outputs": [
    {
     "data": {
      "text/plain": [
       "55"
      ]
     },
     "execution_count": 7,
     "metadata": {},
     "output_type": "execute_result"
    }
   ],
   "source": [
    "a = [1,2,3,4,5,6,7,8,9,10]\n",
    "sum_a = sum(a)\n",
    "sum_a"
   ]
  },
  {
   "cell_type": "code",
   "execution_count": 12,
   "metadata": {
    "ExecuteTime": {
     "end_time": "2021-01-13T13:20:59.217554Z",
     "start_time": "2021-01-13T13:20:59.210791Z"
    }
   },
   "outputs": [
    {
     "name": "stdout",
     "output_type": "stream",
     "text": [
      "[-5, 1, 2, 2, 3, 4, 7, 9]\n"
     ]
    }
   ],
   "source": [
    "b = [1,2,4,-5,7,9,3,2]\n",
    "b.sort()\n",
    "print(b)"
   ]
  },
  {
   "cell_type": "code",
   "execution_count": 14,
   "metadata": {
    "ExecuteTime": {
     "end_time": "2021-01-13T13:21:55.288940Z",
     "start_time": "2021-01-13T13:21:55.283027Z"
    }
   },
   "outputs": [
    {
     "name": "stdout",
     "output_type": "stream",
     "text": [
      "[9, 7, 4, 3, 2, 2, 1, -5]\n"
     ]
    }
   ],
   "source": [
    "b.sort(reverse=True)\n",
    "print(b)"
   ]
  },
  {
   "cell_type": "code",
   "execution_count": 15,
   "metadata": {
    "ExecuteTime": {
     "end_time": "2021-01-13T13:23:09.593340Z",
     "start_time": "2021-01-13T13:23:09.583089Z"
    }
   },
   "outputs": [
    {
     "data": {
      "text/plain": [
       "3"
      ]
     },
     "execution_count": 15,
     "metadata": {},
     "output_type": "execute_result"
    }
   ],
   "source": [
    "b[3]"
   ]
  },
  {
   "cell_type": "code",
   "execution_count": 24,
   "metadata": {
    "ExecuteTime": {
     "end_time": "2021-01-13T13:28:14.158498Z",
     "start_time": "2021-01-13T13:28:14.152422Z"
    }
   },
   "outputs": [
    {
     "data": {
      "text/plain": [
       "(9, -5)"
      ]
     },
     "execution_count": 24,
     "metadata": {},
     "output_type": "execute_result"
    }
   ],
   "source": [
    "max(b), min(b)"
   ]
  },
  {
   "cell_type": "code",
   "execution_count": 26,
   "metadata": {
    "ExecuteTime": {
     "end_time": "2021-01-13T13:35:06.565344Z",
     "start_time": "2021-01-13T13:35:06.560601Z"
    }
   },
   "outputs": [
    {
     "name": "stdout",
     "output_type": "stream",
     "text": [
      "Here is the first line,\n",
      "Followed by the second line,\n",
      "and finally the third line.\n"
     ]
    }
   ],
   "source": [
    "multiple_line_string = \"\"\"Here is the first line,\n",
    "Followed by the second line,\n",
    "and finally the third line.\"\"\"\n",
    "print(multiple_line_string)"
   ]
  },
  {
   "cell_type": "code",
   "execution_count": 30,
   "metadata": {
    "ExecuteTime": {
     "end_time": "2021-01-13T13:41:21.219309Z",
     "start_time": "2021-01-13T13:41:21.211900Z"
    }
   },
   "outputs": [
    {
     "name": "stdout",
     "output_type": "stream",
     "text": [
      "Here is the first line, \n",
      "Followed by the second line,\n",
      "and finally the third line.\n"
     ]
    }
   ],
   "source": [
    "print(\"Here is the first line, \\nFollowed by the second line,\\nand finally the third line.\")"
   ]
  },
  {
   "cell_type": "code",
   "execution_count": 43,
   "metadata": {
    "ExecuteTime": {
     "end_time": "2021-01-13T13:55:19.221932Z",
     "start_time": "2021-01-13T13:55:19.216993Z"
    }
   },
   "outputs": [
    {
     "name": "stdout",
     "output_type": "stream",
     "text": [
      "Here is the first line, \\nFollowed by the second line,\\nand finally the third line.\n"
     ]
    }
   ],
   "source": [
    "print(r\"Here is the first line, \\nFollowed by the second line,\\nand finally the third line.\")"
   ]
  },
  {
   "cell_type": "code",
   "execution_count": 36,
   "metadata": {
    "ExecuteTime": {
     "end_time": "2021-01-13T13:46:29.739736Z",
     "start_time": "2021-01-13T13:46:29.729540Z"
    }
   },
   "outputs": [
    {
     "data": {
      "text/plain": [
       "'here is the first line,\\nfollowed by the second line,\\nand finally the third line.'"
      ]
     },
     "execution_count": 36,
     "metadata": {},
     "output_type": "execute_result"
    }
   ],
   "source": [
    "x = multiple_line_string.lower()\n",
    "x"
   ]
  },
  {
   "cell_type": "code",
   "execution_count": 37,
   "metadata": {
    "ExecuteTime": {
     "end_time": "2021-01-13T13:46:43.657031Z",
     "start_time": "2021-01-13T13:46:43.650003Z"
    }
   },
   "outputs": [
    {
     "data": {
      "text/plain": [
       "'Here is the first line,\\nfollowed by the second line,\\nand finally the third line.'"
      ]
     },
     "execution_count": 37,
     "metadata": {},
     "output_type": "execute_result"
    }
   ],
   "source": [
    "x.capitalize()"
   ]
  },
  {
   "cell_type": "code",
   "execution_count": 39,
   "metadata": {
    "ExecuteTime": {
     "end_time": "2021-01-13T13:52:53.348285Z",
     "start_time": "2021-01-13T13:52:53.344489Z"
    }
   },
   "outputs": [
    {
     "name": "stdout",
     "output_type": "stream",
     "text": [
      "Is 'string' possible?'\n"
     ]
    }
   ],
   "source": [
    "print(\"Is 'string' possible?'\")"
   ]
  },
  {
   "cell_type": "code",
   "execution_count": 44,
   "metadata": {
    "ExecuteTime": {
     "end_time": "2021-01-13T14:53:06.948585Z",
     "start_time": "2021-01-13T14:53:06.943811Z"
    }
   },
   "outputs": [],
   "source": [
    " Dict1 = {'a':1, 'b':2, 'c':3}"
   ]
  },
  {
   "cell_type": "code",
   "execution_count": 55,
   "metadata": {
    "ExecuteTime": {
     "end_time": "2021-01-13T14:59:12.072161Z",
     "start_time": "2021-01-13T14:59:12.065602Z"
    }
   },
   "outputs": [
    {
     "data": {
      "text/plain": [
       "{'a': 1, 'b': 2, 'c': 3, 'e': 5, 'f': 6, 'g': 7, 'd': 4}"
      ]
     },
     "execution_count": 55,
     "metadata": {},
     "output_type": "execute_result"
    }
   ],
   "source": [
    "Dict1['d'] = 4\n",
    "Dict1"
   ]
  },
  {
   "cell_type": "code",
   "execution_count": 56,
   "metadata": {
    "ExecuteTime": {
     "end_time": "2021-01-13T14:59:13.545063Z",
     "start_time": "2021-01-13T14:59:13.540212Z"
    }
   },
   "outputs": [],
   "source": [
    "Dict2 = {'e':5, 'f':6, 'g':7}"
   ]
  },
  {
   "cell_type": "code",
   "execution_count": 57,
   "metadata": {
    "ExecuteTime": {
     "end_time": "2021-01-13T14:59:14.506796Z",
     "start_time": "2021-01-13T14:59:14.495209Z"
    }
   },
   "outputs": [
    {
     "ename": "TypeError",
     "evalue": "unsupported operand type(s) for +: 'dict' and 'dict'",
     "output_type": "error",
     "traceback": [
      "\u001b[0;31m---------------------------------------------------------------------------\u001b[0m",
      "\u001b[0;31mTypeError\u001b[0m                                 Traceback (most recent call last)",
      "\u001b[0;32m<ipython-input-57-3260197042ce>\u001b[0m in \u001b[0;36m<module>\u001b[0;34m\u001b[0m\n\u001b[0;32m----> 1\u001b[0;31m \u001b[0mDict\u001b[0m \u001b[0;34m=\u001b[0m \u001b[0mDict1\u001b[0m \u001b[0;34m+\u001b[0m \u001b[0mDict2\u001b[0m\u001b[0;34m\u001b[0m\u001b[0;34m\u001b[0m\u001b[0m\n\u001b[0m",
      "\u001b[0;31mTypeError\u001b[0m: unsupported operand type(s) for +: 'dict' and 'dict'"
     ]
    }
   ],
   "source": [
    "Dict = Dict1 + Dict2"
   ]
  },
  {
   "cell_type": "code",
   "execution_count": 58,
   "metadata": {
    "ExecuteTime": {
     "end_time": "2021-01-13T14:59:15.258365Z",
     "start_time": "2021-01-13T14:59:15.250108Z"
    }
   },
   "outputs": [
    {
     "data": {
      "text/plain": [
       "{'a': 1, 'b': 2, 'c': 3, 'e': 5, 'f': 6, 'g': 7, 'd': 4}"
      ]
     },
     "execution_count": 58,
     "metadata": {},
     "output_type": "execute_result"
    }
   ],
   "source": [
    "Dict1.update(Dict2)\n",
    "Dict1"
   ]
  },
  {
   "cell_type": "code",
   "execution_count": 48,
   "metadata": {
    "ExecuteTime": {
     "end_time": "2021-01-13T14:55:49.619124Z",
     "start_time": "2021-01-13T14:55:49.612906Z"
    }
   },
   "outputs": [],
   "source": [
    "del Dict1['d']"
   ]
  },
  {
   "cell_type": "code",
   "execution_count": 49,
   "metadata": {
    "ExecuteTime": {
     "end_time": "2021-01-13T14:55:54.237046Z",
     "start_time": "2021-01-13T14:55:54.229565Z"
    }
   },
   "outputs": [
    {
     "data": {
      "text/plain": [
       "{'a': 1, 'b': 2, 'c': 3}"
      ]
     },
     "execution_count": 49,
     "metadata": {},
     "output_type": "execute_result"
    }
   ],
   "source": [
    "Dict1"
   ]
  },
  {
   "cell_type": "code",
   "execution_count": null,
   "metadata": {},
   "outputs": [],
   "source": []
  }
 ],
 "metadata": {
  "kernelspec": {
   "display_name": "Python 3",
   "language": "python",
   "name": "python3"
  },
  "language_info": {
   "codemirror_mode": {
    "name": "ipython",
    "version": 3
   },
   "file_extension": ".py",
   "mimetype": "text/x-python",
   "name": "python",
   "nbconvert_exporter": "python",
   "pygments_lexer": "ipython3",
   "version": "3.8.5"
  }
 },
 "nbformat": 4,
 "nbformat_minor": 4
}
