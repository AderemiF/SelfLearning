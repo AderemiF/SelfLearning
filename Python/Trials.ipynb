{
 "cells": [
  {
   "cell_type": "code",
   "execution_count": 3,
   "metadata": {
    "ExecuteTime": {
     "end_time": "2020-12-19T12:17:28.177032Z",
     "start_time": "2020-12-19T12:17:28.172541Z"
    }
   },
   "outputs": [
    {
     "name": "stdout",
     "output_type": "stream",
     "text": [
      "Classy\n",
      "Bougie\n"
     ]
    }
   ],
   "source": [
    "a = 'Classy\\nBougie'\n",
    "print(a)"
   ]
  },
  {
   "cell_type": "code",
   "execution_count": 4,
   "metadata": {
    "ExecuteTime": {
     "end_time": "2020-12-19T12:18:05.596756Z",
     "start_time": "2020-12-19T12:18:05.578507Z"
    }
   },
   "outputs": [
    {
     "data": {
      "text/plain": [
       "13"
      ]
     },
     "execution_count": 4,
     "metadata": {},
     "output_type": "execute_result"
    }
   ],
   "source": [
    "len(a)"
   ]
  },
  {
   "cell_type": "code",
   "execution_count": 10,
   "metadata": {
    "ExecuteTime": {
     "end_time": "2020-12-19T12:40:57.891635Z",
     "start_time": "2020-12-19T12:40:53.784496Z"
    }
   },
   "outputs": [
    {
     "name": "stdout",
     "output_type": "stream",
     "text": [
      "Enter name: Aderemi\n",
      "Hello Aderemi\n"
     ]
    }
   ],
   "source": [
    "name = input(\"Enter name: \")\n",
    "greet = \"Hello\" + \" \" + name\n",
    "#print(greet)\n",
    "print(\"Hello\",name)"
   ]
  },
  {
   "cell_type": "code",
   "execution_count": 9,
   "metadata": {
    "ExecuteTime": {
     "end_time": "2020-12-19T12:37:57.947657Z",
     "start_time": "2020-12-19T12:37:51.511968Z"
    }
   },
   "outputs": [
    {
     "name": "stdout",
     "output_type": "stream",
     "text": [
      "Enter number of hours you worked: 35\n",
      "What is the rate per hour: 2.75\n",
      "Here is your total pay in dollars: 96.25\n"
     ]
    }
   ],
   "source": [
    "hours = input(\"Enter number of hours you worked: \")\n",
    "rate = input(\"What is the rate per hour: \")\n",
    "pay = float(hours) * float(rate)\n",
    "print(f\"Here is your total pay in dollars: {pay}\")"
   ]
  },
  {
   "cell_type": "code",
   "execution_count": 14,
   "metadata": {
    "ExecuteTime": {
     "end_time": "2020-12-19T12:56:27.155852Z",
     "start_time": "2020-12-19T12:56:11.964463Z"
    }
   },
   "outputs": [
    {
     "name": "stdout",
     "output_type": "stream",
     "text": [
      "Enter number of hours you worked: 45\n",
      "What is the rate per hour: 10\n",
      "Your total pay in dollars is: 475.0\n"
     ]
    }
   ],
   "source": [
    "hours = input(\"Enter number of hours you worked: \")\n",
    "hour1 = float(hours)\n",
    "rate1 = input(\"What is the rate per hour: \")\n",
    "if hour1 > 40:\n",
    "    rate2 = float(rate1) * 1.5\n",
    "    hour2 = hour1 - 40\n",
    "    pay1 = float(rate1) * 40\n",
    "    pay2 = (rate2 * hour2) + pay1\n",
    "    print(f\"Your total pay in dollars is: {pay2}\")"
   ]
  },
  {
   "cell_type": "code",
   "execution_count": 16,
   "metadata": {
    "ExecuteTime": {
     "end_time": "2020-12-19T13:05:37.827100Z",
     "start_time": "2020-12-19T13:05:33.598446Z"
    }
   },
   "outputs": [
    {
     "name": "stdout",
     "output_type": "stream",
     "text": [
      "Enter number of hours you worked: 45\n",
      "What is the rate per hour: ten\n",
      "Error, please enter numeric input\n",
      "Your total pay in dollars is: 475.0\n"
     ]
    }
   ],
   "source": [
    "hours = input(\"Enter number of hours you worked: \")\n",
    "rate = input(\"What is the rate per hour: \")\n",
    "try:\n",
    "    hour1 = float(hours)\n",
    "    rate1 = float(rate)\n",
    "except:\n",
    "    print(\"Error, please enter numeric input\")\n",
    "    quit()\n",
    "     \n",
    "if hour1 > 40:\n",
    "    rate2 = float(rate1) * 1.5\n",
    "    hour2 = hour1 - 40\n",
    "    pay1 = float(rate1) * 40\n",
    "    pay2 = (rate2 * hour2) + pay1\n",
    "    print(f\"Your total pay in dollars is: {pay2}\")"
   ]
  },
  {
   "cell_type": "code",
   "execution_count": 12,
   "metadata": {
    "ExecuteTime": {
     "end_time": "2020-12-19T13:28:13.543574Z",
     "start_time": "2020-12-19T13:28:13.537641Z"
    }
   },
   "outputs": [
    {
     "name": "stdout",
     "output_type": "stream",
     "text": [
      "You have earned: 475.0\n"
     ]
    }
   ],
   "source": [
    "def computepay(hours,rate):\n",
    "    hours = float(hours)\n",
    "    rate = float(rate)\n",
    "    if hours > 40:\n",
    "        hour2 = hours -40\n",
    "        rate2 = rate * 1.5\n",
    "        pay1 = rate * 40\n",
    "        pay = pay1 + (hour2 * rate2)\n",
    "    else:\n",
    "        pay = hours * rate\n",
    "    return pay\n",
    "x = computepay(45,10)\n",
    "print(\"You have earned:\",x)"
   ]
  },
  {
   "cell_type": "code",
   "execution_count": 20,
   "metadata": {
    "ExecuteTime": {
     "end_time": "2020-12-19T14:05:46.330900Z",
     "start_time": "2020-12-19T14:05:20.906096Z"
    }
   },
   "outputs": [
    {
     "name": "stdout",
     "output_type": "stream",
     "text": [
      "Enter number: 4\n",
      "Enter number: 5\n",
      "Enter number: bad data\n",
      "Invalid input\n",
      "Enter number: 7\n",
      "Enter number: done\n",
      "Total is: 16.0\n",
      "Count is: 3\n",
      "Average is: 5.333333333333333\n"
     ]
    }
   ],
   "source": [
    "count = 0\n",
    "total = 0\n",
    "while True:\n",
    "    numbers = input(\"Enter number: \")\n",
    "    if numbers == 'done':\n",
    "        break\n",
    "    try:\n",
    "        numbers = float(numbers)\n",
    "    except:\n",
    "        print(\"Invalid input\")\n",
    "        continue\n",
    "    count = count + 1\n",
    "    total = total + numbers\n",
    "print(\"Total is:\",total)\n",
    "print(\"Count is:\",count)\n",
    "print(\"Average is:\",total/count)"
   ]
  },
  {
   "cell_type": "code",
   "execution_count": 28,
   "metadata": {
    "ExecuteTime": {
     "end_time": "2020-12-19T14:17:25.085062Z",
     "start_time": "2020-12-19T14:17:25.075164Z"
    }
   },
   "outputs": [
    {
     "name": "stdout",
     "output_type": "stream",
     "text": [
      "18\n",
      "0.8475\n",
      "0.8475\n"
     ]
    }
   ],
   "source": [
    "str = \"X-DSPAM-Confidence: 0.8475\"\n",
    "fstr = str.find(\":\")\n",
    "print(fstr)\n",
    "new = str[20:]\n",
    "print(new)\n",
    "fnew = float(new)\n",
    "print(fnew)"
   ]
  },
  {
   "cell_type": "code",
   "execution_count": 29,
   "metadata": {
    "ExecuteTime": {
     "end_time": "2020-12-19T15:11:36.697646Z",
     "start_time": "2020-12-19T15:11:29.499775Z"
    }
   },
   "outputs": [
    {
     "name": "stdout",
     "output_type": "stream",
     "text": [
      "Enter file name: na na boo boo\n"
     ]
    },
    {
     "ename": "FileNotFoundError",
     "evalue": "[Errno 2] No such file or directory: 'na na boo boo'",
     "output_type": "error",
     "traceback": [
      "\u001b[0;31m---------------------------------------------------------------------------\u001b[0m",
      "\u001b[0;31mFileNotFoundError\u001b[0m                         Traceback (most recent call last)",
      "\u001b[0;32m<ipython-input-29-1385fb555f39>\u001b[0m in \u001b[0;36m<module>\u001b[0;34m\u001b[0m\n\u001b[1;32m      1\u001b[0m \u001b[0mname\u001b[0m \u001b[0;34m=\u001b[0m \u001b[0minput\u001b[0m\u001b[0;34m(\u001b[0m\u001b[0;34m\"Enter file name: \"\u001b[0m\u001b[0;34m)\u001b[0m\u001b[0;34m\u001b[0m\u001b[0;34m\u001b[0m\u001b[0m\n\u001b[0;32m----> 2\u001b[0;31m \u001b[0mfhand\u001b[0m \u001b[0;34m=\u001b[0m \u001b[0mopen\u001b[0m\u001b[0;34m(\u001b[0m\u001b[0mname\u001b[0m\u001b[0;34m)\u001b[0m\u001b[0;34m\u001b[0m\u001b[0;34m\u001b[0m\u001b[0m\n\u001b[0m\u001b[1;32m      3\u001b[0m \u001b[0;32mfor\u001b[0m \u001b[0mline\u001b[0m \u001b[0;32min\u001b[0m \u001b[0mfhand\u001b[0m\u001b[0;34m:\u001b[0m\u001b[0;34m\u001b[0m\u001b[0;34m\u001b[0m\u001b[0m\n\u001b[1;32m      4\u001b[0m     \u001b[0mprint\u001b[0m\u001b[0;34m(\u001b[0m\u001b[0mline\u001b[0m\u001b[0;34m.\u001b[0m\u001b[0mupper\u001b[0m\u001b[0;34m(\u001b[0m\u001b[0;34m)\u001b[0m\u001b[0;34m)\u001b[0m\u001b[0;34m\u001b[0m\u001b[0;34m\u001b[0m\u001b[0m\n",
      "\u001b[0;31mFileNotFoundError\u001b[0m: [Errno 2] No such file or directory: 'na na boo boo'"
     ]
    }
   ],
   "source": [
    "name = input(\"Enter file name: \")\n",
    "fhand = open(name)\n",
    "for line in fhand:\n",
    "    line = line.rstrip()\n",
    "    fupper = line.upper()\n",
    "    print(fupper)"
   ]
  },
  {
   "cell_type": "code",
   "execution_count": 2,
   "metadata": {
    "ExecuteTime": {
     "end_time": "2020-12-26T13:25:55.888093Z",
     "start_time": "2020-12-26T13:25:55.872405Z"
    }
   },
   "outputs": [
    {
     "data": {
      "text/plain": [
       "['book', 99]"
      ]
     },
     "execution_count": 2,
     "metadata": {},
     "output_type": "execute_result"
    }
   ],
   "source": [
    "a = []\n",
    "a.append('book')\n",
    "a.append(99)\n",
    "a"
   ]
  },
  {
   "cell_type": "code",
   "execution_count": 3,
   "metadata": {
    "ExecuteTime": {
     "end_time": "2020-12-26T13:25:57.463842Z",
     "start_time": "2020-12-26T13:25:57.457239Z"
    }
   },
   "outputs": [
    {
     "data": {
      "text/plain": [
       "True"
      ]
     },
     "execution_count": 3,
     "metadata": {},
     "output_type": "execute_result"
    }
   ],
   "source": [
    "99 in a"
   ]
  },
  {
   "cell_type": "code",
   "execution_count": 4,
   "metadata": {
    "ExecuteTime": {
     "end_time": "2020-12-26T13:25:59.394589Z",
     "start_time": "2020-12-26T13:25:59.384622Z"
    }
   },
   "outputs": [
    {
     "ename": "NameError",
     "evalue": "name 'go' is not defined",
     "output_type": "error",
     "traceback": [
      "\u001b[0;31m---------------------------------------------------------------------------\u001b[0m",
      "\u001b[0;31mNameError\u001b[0m                                 Traceback (most recent call last)",
      "\u001b[0;32m<ipython-input-4-956d0650c4b0>\u001b[0m in \u001b[0;36m<module>\u001b[0;34m\u001b[0m\n\u001b[0;32m----> 1\u001b[0;31m \u001b[0mgo\u001b[0m \u001b[0;32min\u001b[0m \u001b[0ma\u001b[0m\u001b[0;34m\u001b[0m\u001b[0;34m\u001b[0m\u001b[0m\n\u001b[0m",
      "\u001b[0;31mNameError\u001b[0m: name 'go' is not defined"
     ]
    }
   ],
   "source": [
    "go in a "
   ]
  },
  {
   "cell_type": "code",
   "execution_count": 5,
   "metadata": {
    "ExecuteTime": {
     "end_time": "2020-12-26T13:26:00.753343Z",
     "start_time": "2020-12-26T13:26:00.745774Z"
    }
   },
   "outputs": [
    {
     "data": {
      "text/plain": [
       "['book', 99]"
      ]
     },
     "execution_count": 5,
     "metadata": {},
     "output_type": "execute_result"
    }
   ],
   "source": [
    "a "
   ]
  },
  {
   "cell_type": "code",
   "execution_count": 6,
   "metadata": {
    "ExecuteTime": {
     "end_time": "2020-12-26T13:26:03.784545Z",
     "start_time": "2020-12-26T13:26:03.775569Z"
    }
   },
   "outputs": [
    {
     "data": {
      "text/plain": [
       "False"
      ]
     },
     "execution_count": 6,
     "metadata": {},
     "output_type": "execute_result"
    }
   ],
   "source": [
    "'go' in a "
   ]
  },
  {
   "cell_type": "code",
   "execution_count": 38,
   "metadata": {
    "ExecuteTime": {
     "end_time": "2020-12-19T19:43:00.945515Z",
     "start_time": "2020-12-19T19:43:00.940541Z"
    }
   },
   "outputs": [
    {
     "data": {
      "text/plain": [
       "True"
      ]
     },
     "execution_count": 38,
     "metadata": {},
     "output_type": "execute_result"
    }
   ],
   "source": [
    "99 in a "
   ]
  },
  {
   "cell_type": "code",
   "execution_count": 39,
   "metadata": {
    "ExecuteTime": {
     "end_time": "2020-12-19T19:43:15.265339Z",
     "start_time": "2020-12-19T19:43:15.257837Z"
    }
   },
   "outputs": [
    {
     "data": {
      "text/plain": [
       "True"
      ]
     },
     "execution_count": 39,
     "metadata": {},
     "output_type": "execute_result"
    }
   ],
   "source": [
    "'book' in a "
   ]
  },
  {
   "cell_type": "code",
   "execution_count": 40,
   "metadata": {
    "ExecuteTime": {
     "end_time": "2020-12-19T19:44:27.582463Z",
     "start_time": "2020-12-19T19:44:27.576593Z"
    }
   },
   "outputs": [
    {
     "data": {
      "text/plain": [
       "False"
      ]
     },
     "execution_count": 40,
     "metadata": {},
     "output_type": "execute_result"
    }
   ],
   "source": [
    "'go' in a "
   ]
  },
  {
   "cell_type": "code",
   "execution_count": 41,
   "metadata": {
    "ExecuteTime": {
     "end_time": "2020-12-19T19:45:00.520744Z",
     "start_time": "2020-12-19T19:45:00.507175Z"
    }
   },
   "outputs": [
    {
     "ename": "TypeError",
     "evalue": "'<' not supported between instances of 'int' and 'str'",
     "output_type": "error",
     "traceback": [
      "\u001b[0;31m---------------------------------------------------------------------------\u001b[0m",
      "\u001b[0;31mTypeError\u001b[0m                                 Traceback (most recent call last)",
      "\u001b[0;32m<ipython-input-41-2845abd608fd>\u001b[0m in \u001b[0;36m<module>\u001b[0;34m\u001b[0m\n\u001b[0;32m----> 1\u001b[0;31m \u001b[0ma\u001b[0m\u001b[0;34m.\u001b[0m\u001b[0msort\u001b[0m\u001b[0;34m(\u001b[0m\u001b[0;34m)\u001b[0m\u001b[0;34m\u001b[0m\u001b[0;34m\u001b[0m\u001b[0m\n\u001b[0m\u001b[1;32m      2\u001b[0m \u001b[0mprint\u001b[0m\u001b[0;34m(\u001b[0m\u001b[0ma\u001b[0m\u001b[0;34m)\u001b[0m\u001b[0;34m\u001b[0m\u001b[0;34m\u001b[0m\u001b[0m\n",
      "\u001b[0;31mTypeError\u001b[0m: '<' not supported between instances of 'int' and 'str'"
     ]
    }
   ],
   "source": [
    "a.sort()\n",
    "print(a)"
   ]
  },
  {
   "cell_type": "code",
   "execution_count": 42,
   "metadata": {
    "ExecuteTime": {
     "end_time": "2020-12-19T19:45:23.979210Z",
     "start_time": "2020-12-19T19:45:23.972651Z"
    }
   },
   "outputs": [
    {
     "data": {
      "text/plain": [
       "['book', 99]"
      ]
     },
     "execution_count": 42,
     "metadata": {},
     "output_type": "execute_result"
    }
   ],
   "source": [
    "a "
   ]
  },
  {
   "cell_type": "code",
   "execution_count": 43,
   "metadata": {
    "ExecuteTime": {
     "end_time": "2020-12-19T19:45:30.488220Z",
     "start_time": "2020-12-19T19:45:30.480495Z"
    }
   },
   "outputs": [
    {
     "data": {
      "text/plain": [
       "99"
      ]
     },
     "execution_count": 43,
     "metadata": {},
     "output_type": "execute_result"
    }
   ],
   "source": [
    "a[1]"
   ]
  },
  {
   "cell_type": "code",
   "execution_count": 46,
   "metadata": {
    "ExecuteTime": {
     "end_time": "2020-12-19T19:46:59.832761Z",
     "start_time": "2020-12-19T19:46:59.825976Z"
    }
   },
   "outputs": [
    {
     "name": "stdout",
     "output_type": "stream",
     "text": [
      "6\n",
      "74\n",
      "154\n"
     ]
    }
   ],
   "source": [
    "nums = [3, 41, 12, 9, 74, 15]\n",
    "print(len(nums))\n",
    "print(max(nums))\n",
    "print(sum(nums))"
   ]
  },
  {
   "cell_type": "code",
   "execution_count": 51,
   "metadata": {
    "ExecuteTime": {
     "end_time": "2020-12-19T20:17:56.236136Z",
     "start_time": "2020-12-19T20:17:45.912290Z"
    }
   },
   "outputs": [
    {
     "name": "stdout",
     "output_type": "stream",
     "text": [
      "Enter number: 5\n",
      "Enter number: 4\n",
      "Enter number: 6\n",
      "Enter number: done\n",
      "Average is:  5.0\n"
     ]
    }
   ],
   "source": [
    "nums = []\n",
    "count = 0\n",
    "total = 0\n",
    "while True:\n",
    "    inp = input(\"Enter number: \")\n",
    "    if inp == 'done':\n",
    "        break\n",
    "    else:\n",
    "        count = count + 1\n",
    "        value = float(inp)\n",
    "        nums.append(value)\n",
    "        average = sum(nums) / count\n",
    "print(\"Average is: \",average)\n"
   ]
  },
  {
   "cell_type": "code",
   "execution_count": 2,
   "metadata": {
    "ExecuteTime": {
     "end_time": "2020-12-22T10:02:50.833241Z",
     "start_time": "2020-12-22T10:02:43.749234Z"
    }
   },
   "outputs": [
    {
     "data": {
      "text/plain": [
       "'1.1.3'"
      ]
     },
     "execution_count": 2,
     "metadata": {},
     "output_type": "execute_result"
    }
   ],
   "source": [
    "%matplotlib inline\n",
    "import matplotlib.pyplot as plt\n",
    "import pandas as pd \n",
    "import numpy as np\n",
    "import math\n",
    "pd.set_option('display.notebook_repr_html', False)\n",
    "plt.style.use('ggplot')\n",
    "pd.__version__"
   ]
  },
  {
   "cell_type": "code",
   "execution_count": 91,
   "metadata": {
    "ExecuteTime": {
     "end_time": "2020-12-21T13:49:48.012537Z",
     "start_time": "2020-12-21T13:49:48.001938Z"
    }
   },
   "outputs": [
    {
     "data": {
      "text/plain": [
       "   salaries\n",
       "0     33219\n",
       "1     36254\n",
       "2     38801\n",
       "3     46335\n",
       "4     46840\n",
       "5     47596\n",
       "6     55130\n",
       "7     56863\n",
       "8     78070\n",
       "9     88830"
      ]
     },
     "execution_count": 91,
     "metadata": {},
     "output_type": "execute_result"
    }
   ],
   "source": [
    "data = pd.DataFrame({'salaries': \n",
    "                     [33219, 36254, 38801, 46335, 46840, 47596, 55130, 56863, 78070, 88830]})\n",
    "data"
   ]
  },
  {
   "cell_type": "code",
   "execution_count": 92,
   "metadata": {
    "ExecuteTime": {
     "end_time": "2020-12-21T13:49:49.053433Z",
     "start_time": "2020-12-21T13:49:48.818906Z"
    }
   },
   "outputs": [
    {
     "data": {
      "text/plain": [
       "<AxesSubplot:>"
      ]
     },
     "execution_count": 92,
     "metadata": {},
     "output_type": "execute_result"
    },
    {
     "data": {
      "image/png": "[encoded data removed]",
      "text/plain": [
       "<Figure size 432x288 with 1 Axes>"
      ]
     },
     "metadata": {},
     "output_type": "display_data"
    }
   ],
   "source": [
    "data.plot(kind='bar', color='blue', alpha=0.5)"
   ]
  },
  {
   "cell_type": "code",
   "execution_count": 93,
   "metadata": {
    "ExecuteTime": {
     "end_time": "2020-12-21T13:49:52.023534Z",
     "start_time": "2020-12-21T13:49:52.015505Z"
    }
   },
   "outputs": [
    {
     "name": "stdout",
     "output_type": "stream",
     "text": [
      "291622740.36\n",
      "324025267.06666666\n"
     ]
    }
   ],
   "source": [
    "pop_var = data.salaries.var(ddof=0)\n",
    "samp_var = data.salaries.var()\n",
    "print(pop_var)\n",
    "print(samp_var)"
   ]
  },
  {
   "cell_type": "code",
   "execution_count": 94,
   "metadata": {
    "ExecuteTime": {
     "end_time": "2020-12-21T13:49:52.671262Z",
     "start_time": "2020-12-21T13:49:52.664527Z"
    }
   },
   "outputs": [
    {
     "data": {
      "text/plain": [
       "18000.70184927984"
      ]
     },
     "execution_count": 94,
     "metadata": {},
     "output_type": "execute_result"
    }
   ],
   "source": [
    "std_dev = data.salaries.std()\n",
    "std_dev"
   ]
  },
  {
   "cell_type": "code",
   "execution_count": 95,
   "metadata": {
    "ExecuteTime": {
     "end_time": "2020-12-21T13:49:53.150463Z",
     "start_time": "2020-12-21T13:49:53.140456Z"
    }
   },
   "outputs": [
    {
     "data": {
      "text/plain": [
       "    Numbers\n",
       "0         1\n",
       "1         2\n",
       "2         5\n",
       "3         6\n",
       "4         3\n",
       "5         5\n",
       "6         7\n",
       "7         2\n",
       "8         6\n",
       "9         7\n",
       "10        3\n",
       "11        6\n",
       "12        9"
      ]
     },
     "execution_count": 95,
     "metadata": {},
     "output_type": "execute_result"
    }
   ],
   "source": [
    "data = pd.DataFrame({'Numbers':\n",
    "                     [1,2,5,6,3,5,7,2,6,7,3,6,9]})\n",
    "data"
   ]
  },
  {
   "cell_type": "code",
   "execution_count": 96,
   "metadata": {
    "ExecuteTime": {
     "end_time": "2020-12-21T13:49:54.119125Z",
     "start_time": "2020-12-21T13:49:53.854673Z"
    }
   },
   "outputs": [
    {
     "data": {
      "text/plain": [
       "<matplotlib.legend.Legend at 0x128aaa880>"
      ]
     },
     "execution_count": 96,
     "metadata": {},
     "output_type": "execute_result"
    },
    {
     "data": {
      "image/png": "[encoded data removed]",
      "text/plain": [
       "<Figure size 432x288 with 1 Axes>"
      ]
     },
     "metadata": {},
     "output_type": "display_data"
    }
   ],
   "source": [
    "data.plot(kind='bar', color='red')\n",
    "plt.ylabel('Nums')\n",
    "plt.xlabel('Freq')\n",
    "plt.title('Mine')\n",
    "plt.legend(loc='best')"
   ]
  },
  {
   "cell_type": "code",
   "execution_count": 97,
   "metadata": {
    "ExecuteTime": {
     "end_time": "2020-12-21T13:49:56.000785Z",
     "start_time": "2020-12-21T13:49:55.992820Z"
    }
   },
   "outputs": [
    {
     "data": {
      "text/plain": [
       "4.769230769230769"
      ]
     },
     "execution_count": 97,
     "metadata": {},
     "output_type": "execute_result"
    }
   ],
   "source": [
    "avg = data.Numbers.mean()\n",
    "avg"
   ]
  },
  {
   "cell_type": "code",
   "execution_count": 98,
   "metadata": {
    "ExecuteTime": {
     "end_time": "2020-12-21T13:49:56.575919Z",
     "start_time": "2020-12-21T13:49:56.569356Z"
    }
   },
   "outputs": [
    {
     "data": {
      "text/plain": [
       "0    6\n",
       "dtype: int64"
      ]
     },
     "execution_count": 98,
     "metadata": {},
     "output_type": "execute_result"
    }
   ],
   "source": [
    "mode = data.Numbers.mode()\n",
    "mode"
   ]
  },
  {
   "cell_type": "code",
   "execution_count": 99,
   "metadata": {
    "ExecuteTime": {
     "end_time": "2020-12-21T13:49:57.242049Z",
     "start_time": "2020-12-21T13:49:57.233967Z"
    }
   },
   "outputs": [
    {
     "data": {
      "text/plain": [
       "2.385855756810896"
      ]
     },
     "execution_count": 99,
     "metadata": {},
     "output_type": "execute_result"
    }
   ],
   "source": [
    "std_dev = data.Numbers.std()\n",
    "std_dev"
   ]
  },
  {
   "cell_type": "code",
   "execution_count": 100,
   "metadata": {
    "ExecuteTime": {
     "end_time": "2020-12-21T13:49:58.056130Z",
     "start_time": "2020-12-21T13:49:58.048290Z"
    }
   },
   "outputs": [
    {
     "data": {
      "text/plain": [
       "5.6923076923076925"
      ]
     },
     "execution_count": 100,
     "metadata": {},
     "output_type": "execute_result"
    }
   ],
   "source": [
    "var = data.Numbers.var()\n",
    "var"
   ]
  },
  {
   "cell_type": "code",
   "execution_count": 104,
   "metadata": {
    "ExecuteTime": {
     "end_time": "2020-12-21T13:57:36.087902Z",
     "start_time": "2020-12-21T13:57:36.081342Z"
    }
   },
   "outputs": [
    {
     "data": {
      "text/plain": [
       "'1.19.2'"
      ]
     },
     "execution_count": 104,
     "metadata": {},
     "output_type": "execute_result"
    }
   ],
   "source": [
    "import seaborn as sns\n",
    "from scipy import stats\n",
    "np.version.full_version"
   ]
  },
  {
   "cell_type": "code",
   "execution_count": 3,
   "metadata": {
    "ExecuteTime": {
     "end_time": "2020-12-22T10:02:54.111963Z",
     "start_time": "2020-12-22T10:02:50.837056Z"
    }
   },
   "outputs": [
    {
     "data": {
      "text/plain": [
       "'1.19.2'"
      ]
     },
     "execution_count": 3,
     "metadata": {},
     "output_type": "execute_result"
    }
   ],
   "source": [
    "%matplotlib inline \n",
    "import numpy as np\n",
    "import pandas as pd \n",
    "import matplotlib.pyplot as plt\n",
    "import seaborn as sns\n",
    "from scipy import stats \n",
    "from __future__ import division\n",
    "\n",
    "pd.set_option('display.notebook_repr_html', False)\n",
    "\n",
    "sns.set_palette(['#00A99D', '#F5CA0C', '#B6129F', '#76620C', '#095C57'])\n",
    "np.version.full_version"
   ]
  },
  {
   "cell_type": "code",
   "execution_count": 18,
   "metadata": {
    "ExecuteTime": {
     "end_time": "2020-12-22T10:37:13.333683Z",
     "start_time": "2020-12-22T10:37:13.175133Z"
    }
   },
   "outputs": [
    {
     "name": "stderr",
     "output_type": "stream",
     "text": [
      "/Users/aderemifayoyiwa/opt/anaconda3/envs/virtual_env/lib/python3.8/site-packages/seaborn/_decorators.py:36: FutureWarning: Pass the following variables as keyword args: x, y. From version 0.12, the only valid positional argument will be `data`, and passing other arguments without an explicit keyword will result in an error or misinterpretation.\n",
      "  warnings.warn(\n"
     ]
    },
    {
     "data": {
      "image/png": "[encoded data removed]",
      "text/plain": [
       "<Figure size 432x288 with 1 Axes>"
      ]
     },
     "metadata": {
      "needs_background": "light"
     },
     "output_type": "display_data"
    }
   ],
   "source": [
    "x = np.array([1,2,3,4]) \n",
    "y = np.array([2,3,1,2])\n",
    "sns.barplot(x,y);"
   ]
  },
  {
   "cell_type": "code",
   "execution_count": 31,
   "metadata": {
    "ExecuteTime": {
     "end_time": "2020-12-22T10:44:27.380985Z",
     "start_time": "2020-12-22T10:44:27.221962Z"
    }
   },
   "outputs": [
    {
     "data": {
      "image/png": "[encoded data removed]",
      "text/plain": [
       "<Figure size 432x288 with 1 Axes>"
      ]
     },
     "metadata": {
      "needs_background": "light"
     },
     "output_type": "display_data"
    }
   ],
   "source": [
    "data = ({'a':[1,2,3,4],\n",
    "       'b':[2,3,1,2]})\n",
    "df = pd.DataFrame(data)\n",
    "df\n",
    "sns.barplot(x='a', y='b', data=df);"
   ]
  },
  {
   "cell_type": "code",
   "execution_count": 114,
   "metadata": {
    "ExecuteTime": {
     "end_time": "2020-12-21T15:07:37.650859Z",
     "start_time": "2020-12-21T15:07:37.644476Z"
    }
   },
   "outputs": [
    {
     "data": {
      "text/plain": [
       "2.5"
      ]
     },
     "execution_count": 114,
     "metadata": {},
     "output_type": "execute_result"
    }
   ],
   "source": [
    "pop_mu = data.mean()\n",
    "pop_mu"
   ]
  },
  {
   "cell_type": "code",
   "execution_count": 115,
   "metadata": {
    "ExecuteTime": {
     "end_time": "2020-12-21T15:08:07.603222Z",
     "start_time": "2020-12-21T15:08:07.596532Z"
    }
   },
   "outputs": [
    {
     "data": {
      "text/plain": [
       "1.118033988749895"
      ]
     },
     "execution_count": 115,
     "metadata": {},
     "output_type": "execute_result"
    }
   ],
   "source": [
    "pop_sig = data.std(ddof=0)\n",
    "pop_sig"
   ]
  },
  {
   "cell_type": "code",
   "execution_count": 116,
   "metadata": {
    "ExecuteTime": {
     "end_time": "2020-12-21T15:11:19.382819Z",
     "start_time": "2020-12-21T15:11:19.373801Z"
    }
   },
   "outputs": [
    {
     "data": {
      "text/plain": [
       "16"
      ]
     },
     "execution_count": 116,
     "metadata": {},
     "output_type": "execute_result"
    }
   ],
   "source": [
    "possible_outcomes = 4**2\n",
    "possible_outcomes"
   ]
  },
  {
   "cell_type": "code",
   "execution_count": 117,
   "metadata": {
    "ExecuteTime": {
     "end_time": "2020-12-21T15:13:49.144742Z",
     "start_time": "2020-12-21T15:13:48.837490Z"
    }
   },
   "outputs": [
    {
     "data": {
      "image/png": "[encoded data removed]",
      "text/plain": [
       "<Figure size 432x288 with 2 Axes>"
      ]
     },
     "metadata": {
      "needs_background": "light"
     },
     "output_type": "display_data"
    }
   ],
   "source": [
    "mean_outcome_matrix = pd.DataFrame(index=data, dtype='float64', columns=data)\n",
    "\n",
    "for x in data:\n",
    "    for y in data:\n",
    "        mean_outcome_matrix[x][y] = np.mean([x,y])\n",
    "        \n",
    "p = sns.heatmap(mean_outcome_matrix, annot=True)"
   ]
  },
  {
   "cell_type": "code",
   "execution_count": 120,
   "metadata": {
    "ExecuteTime": {
     "end_time": "2020-12-21T15:16:07.295262Z",
     "start_time": "2020-12-21T15:16:07.287587Z"
    }
   },
   "outputs": [
    {
     "data": {
      "text/plain": [
       "2.5"
      ]
     },
     "execution_count": 120,
     "metadata": {},
     "output_type": "execute_result"
    }
   ],
   "source": [
    "sample_mean = mean_outcome_matrix.mean().mean()\n",
    "sample_mean"
   ]
  },
  {
   "cell_type": "code",
   "execution_count": 121,
   "metadata": {
    "ExecuteTime": {
     "end_time": "2020-12-21T15:16:33.008822Z",
     "start_time": "2020-12-21T15:16:32.999427Z"
    }
   },
   "outputs": [
    {
     "data": {
      "text/plain": [
       "True"
      ]
     },
     "execution_count": 121,
     "metadata": {},
     "output_type": "execute_result"
    }
   ],
   "source": [
    "pop_mu == sample_mean"
   ]
  },
  {
   "cell_type": "code",
   "execution_count": 123,
   "metadata": {
    "ExecuteTime": {
     "end_time": "2020-12-21T15:18:14.996913Z",
     "start_time": "2020-12-21T15:18:14.766750Z"
    }
   },
   "outputs": [
    {
     "name": "stderr",
     "output_type": "stream",
     "text": [
      "/Users/aderemifayoyiwa/opt/anaconda3/envs/virtual_env/lib/python3.8/site-packages/seaborn/distributions.py:2551: FutureWarning: `distplot` is a deprecated function and will be removed in a future version. Please adapt your code to use either `displot` (a figure-level function with similar flexibility) or `histplot` (an axes-level function for histograms).\n",
      "  warnings.warn(msg, FutureWarning)\n"
     ]
    },
    {
     "data": {
      "image/png": "[encoded data removed]",
      "text/plain": [
       "<Figure size 432x288 with 1 Axes>"
      ]
     },
     "metadata": {
      "needs_background": "light"
     },
     "output_type": "display_data"
    }
   ],
   "source": [
    "diff_val_count = mean_outcome_matrix.stack().value_counts().count()\n",
    "p = sns.distplot(mean_outcome_matrix.stack(), bins=diff_val_count)\n"
   ]
  },
  {
   "cell_type": "code",
   "execution_count": 7,
   "metadata": {
    "ExecuteTime": {
     "end_time": "2020-12-26T13:33:49.066063Z",
     "start_time": "2020-12-26T13:33:47.360621Z"
    }
   },
   "outputs": [],
   "source": [
    "import numpy as np\n",
    "import pandas as pd "
   ]
  },
  {
   "cell_type": "code",
   "execution_count": 12,
   "metadata": {
    "ExecuteTime": {
     "end_time": "2020-12-26T13:41:00.784250Z",
     "start_time": "2020-12-26T13:41:00.777205Z"
    }
   },
   "outputs": [
    {
     "name": "stdout",
     "output_type": "stream",
     "text": [
      "Sum is: 15\n",
      "Average is: 3.0\n",
      "-2.0\n"
     ]
    }
   ],
   "source": [
    "tot = 0\n",
    "array = np.array([1,2,3,4,5])\n",
    "for i in array:\n",
    "    tot = tot + i\n",
    "    average = tot / len(array)\n",
    "    item = (average - i) \n",
    "print(\"Sum is:\",tot)\n",
    "print(\"Average is:\",average)\n",
    "print(item)"
   ]
  },
  {
   "cell_type": "code",
   "execution_count": 26,
   "metadata": {
    "ExecuteTime": {
     "end_time": "2020-12-26T14:06:41.299561Z",
     "start_time": "2020-12-26T14:06:41.286895Z"
    }
   },
   "outputs": [
    {
     "name": "stdout",
     "output_type": "stream",
     "text": [
      "Sum is: 15\n",
      "Average is: 3.0\n",
      "[-2.0, -1.0, 0.0, 1.0, 2.0]\n",
      "[4.0, 1.0, 0.0, 1.0, 4.0]\n",
      "2.5\n"
     ]
    }
   ],
   "source": [
    "tot = 0\n",
    "item = []\n",
    "squared = []\n",
    "array = np.array([1,2,3,4,5])\n",
    "for i in array:\n",
    "    tot = tot + i\n",
    "    average = tot / len(array)\n",
    "\n",
    "array = np.array([1,2,3,4,5])\n",
    "for i in array:\n",
    "    item = [i - average for i in array ]\n",
    "\n",
    "new_array = np.array(item)\n",
    "for i in new_array:\n",
    "    squared = [i ** 2 for i in new_array]\n",
    "\n",
    "total = 0\n",
    "var_array = np.array(squared)\n",
    "for i in var_array:\n",
    "    total = total + i \n",
    "    sample_population = len(var_array) - 1\n",
    "    variance = total / sample_population\n",
    "    \n",
    "print(\"Sum is:\",tot)\n",
    "print(\"Average is:\",average)\n",
    "print(item)\n",
    "print(squared)\n",
    "print(variance)"
   ]
  },
  {
   "cell_type": "code",
   "execution_count": null,
   "metadata": {},
   "outputs": [],
   "source": []
  }
 ],
 "metadata": {
  "kernelspec": {
   "display_name": "Python 3",
   "language": "python",
   "name": "python3"
  },
  "language_info": {
   "codemirror_mode": {
    "name": "ipython",
    "version": 3
   },
   "file_extension": ".py",
   "mimetype": "text/x-python",
   "name": "python",
   "nbconvert_exporter": "python",
   "pygments_lexer": "ipython3",
   "version": "3.8.5"
  }
 },
 "nbformat": 4,
 "nbformat_minor": 4
}
